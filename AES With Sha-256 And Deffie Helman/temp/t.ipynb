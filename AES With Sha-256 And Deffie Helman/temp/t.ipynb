{
 "cells": [
  {
   "cell_type": "code",
   "execution_count": 1,
   "metadata": {},
   "outputs": [
    {
     "ename": "NameError",
     "evalue": "name 'ssl_connection' is not defined",
     "output_type": "error",
     "traceback": [
      "\u001b[1;31m---------------------------------------------------------------------------\u001b[0m",
      "\u001b[1;31mNameError\u001b[0m                                 Traceback (most recent call last)",
      "\u001b[1;32mc:\\Users\\haide\\OneDrive\\Desktop\\testing\\temp\\t.ipynb Cell 1\u001b[0m line \u001b[0;36m8\n\u001b[0;32m      <a href='vscode-notebook-cell:/c%3A/Users/haide/OneDrive/Desktop/testing/temp/t.ipynb#W0sZmlsZQ%3D%3D?line=5'>6</a>\u001b[0m \u001b[39mfrom\u001b[39;00m \u001b[39mcryptography\u001b[39;00m\u001b[39m.\u001b[39;00m\u001b[39mhazmat\u001b[39;00m\u001b[39m.\u001b[39;00m\u001b[39mprimitives\u001b[39;00m \u001b[39mimport\u001b[39;00m padding\n\u001b[0;32m      <a href='vscode-notebook-cell:/c%3A/Users/haide/OneDrive/Desktop/testing/temp/t.ipynb#W0sZmlsZQ%3D%3D?line=6'>7</a>\u001b[0m \u001b[39mwith\u001b[39;00m \u001b[39mopen\u001b[39m(\u001b[39m\"\u001b[39m\u001b[39mserver_public_key.pem\u001b[39m\u001b[39m\"\u001b[39m, \u001b[39m\"\u001b[39m\u001b[39mwb\u001b[39m\u001b[39m\"\u001b[39m) \u001b[39mas\u001b[39;00m file:\n\u001b[1;32m----> <a href='vscode-notebook-cell:/c%3A/Users/haide/OneDrive/Desktop/testing/temp/t.ipynb#W0sZmlsZQ%3D%3D?line=7'>8</a>\u001b[0m     file\u001b[39m.\u001b[39mwrite(ssl_connection\u001b[39m.\u001b[39mgetpeercert(binary_form\u001b[39m=\u001b[39m\u001b[39mTrue\u001b[39;00m))\n",
      "\u001b[1;31mNameError\u001b[0m: name 'ssl_connection' is not defined"
     ]
    }
   ],
   "source": [
    "import ssl\n",
    "import os\n",
    "from cryptography.hazmat.primitives import serialization\n",
    "from cryptography.hazmat.primitives.asymmetric import dh\n",
    "from cryptography.hazmat.primitives.ciphers import Cipher, algorithms, modes\n",
    "from cryptography.hazmat.backends import default_backend\n",
    "from cryptography.hazmat.primitives import padding\n",
    "with open(\"server_public_key.pem\", \"wb\") as file:\n",
    "    file.write(ssl_connection.getpeercert(binary_form=True))"
   ]
  }
 ],
 "metadata": {
  "kernelspec": {
   "display_name": "Python 3",
   "language": "python",
   "name": "python3"
  },
  "language_info": {
   "codemirror_mode": {
    "name": "ipython",
    "version": 3
   },
   "file_extension": ".py",
   "mimetype": "text/x-python",
   "name": "python",
   "nbconvert_exporter": "python",
   "pygments_lexer": "ipython3",
   "version": "3.12.0"
  }
 },
 "nbformat": 4,
 "nbformat_minor": 2
}
